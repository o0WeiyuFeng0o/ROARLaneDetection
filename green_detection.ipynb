{
 "cells": [
  {
   "cell_type": "code",
   "execution_count": 5,
   "metadata": {},
   "outputs": [],
   "source": [
    "import numpy as np \n",
    "import cv2\n",
    "import imutils"
   ]
  },
  {
   "cell_type": "code",
   "execution_count": 6,
   "metadata": {},
   "outputs": [
    {
     "name": "stderr",
     "output_type": "stream",
     "text": [
      "[mov,mp4,m4a,3gp,3g2,mj2 @ 0x55df01e33ec0] Referenced QT chapter track not found\n"
     ]
    },
    {
     "data": {
      "text/plain": [
       "True"
      ]
     },
     "execution_count": 6,
     "metadata": {},
     "output_type": "execute_result"
    }
   ],
   "source": [
    "cap = cv2.VideoCapture(\"/home/roar/Desktop/ROARLaneDetection/training_1000.MOV\")\n",
    "cap.isOpened()"
   ]
  },
  {
   "cell_type": "code",
   "execution_count": 7,
   "metadata": {},
   "outputs": [],
   "source": [
    "def grass_detection(image):\n",
    "    img_hsv = cv2.cvtColor(frame, cv2.COLOR_RGB2HSV)\n",
    "\n",
    "    kernel_size = 5\n",
    "    blur = cv2.GaussianBlur(img_hsv, (5,5), 0)\n",
    "\n",
    "    # print(blur.shape)\n",
    "    \n",
    "    # lower_green = np.array( [40,40,40], dtype = \"uint8\")\n",
    "    # upper_green = np.array( [70,255,255], dtype = \"uint8\")\n",
    "    \n",
    "    low_green = np.array([25, 52, 72])\n",
    "    high_green = np.array([200, 255, 255])\n",
    "\n",
    "    #lower_green = np.array( [120,100,100], dtype = \"uint8\")\n",
    "    #upper_green = np.array( [180,100,50], dtype = \"uint8\")\n",
    "\n",
    "\n",
    "\n",
    "    filter_size = (150, img_hsv.shape[1])\n",
    "    sky_filter = np.zeros(filter_size)\n",
    "\n",
    "    flt = cv2.inRange(blur[150:], low_green, high_green)\n",
    "    print(\"flt\", flt.shape, type(flt))\n",
    "    combo_flter = np.concatenate((sky_filter, flt), axis = 0)\n",
    "    kernel = np.ones((kernel_size*2,kernel_size*2),np.uint8)\n",
    "    dilation_image = cv2.dilate(combo_flter, kernel, iterations=1)\n",
    "    mask = cv2.morphologyEx(combo_flter, cv2.MORPH_OPEN, None).astype(np.uint8)\n",
    "    print(\"mask\", mask.shape, type(mask))\n",
    "\n",
    "    # final_mask = np.zeros_like(frame)\n",
    "    # final_mask[:, :, 0] = mask\n",
    "    # final_mask[:, :, 1] = mask\n",
    "    # final_mask[:, :, 2] = mask\n",
    "    # final = cv2.bitwise_and(final_mask, frame)\n",
    "\n",
    "    mask_copy = mask.copy()\n",
    "    gx, gy = np.gradient(mask_copy)\n",
    "    temp_edge = gy * gy + gx * gx\n",
    "    temp_edge[temp_edge != 0.0] = 255.0\n",
    "    temp_edge = temp_edge.astype(np.uint8)\n",
    "\n",
    "    nb_components, output, stats, centroids = cv2.connectedComponentsWithStats(temp_edge, connectivity=8)\n",
    "    sizes = stats[1:, -1]\n",
    "    nb_components = nb_components - 1\n",
    "    min_size = 1000  #num pixels\n",
    "\n",
    "    img2 = np.zeros((output.shape))\n",
    "    for i in range(0, nb_components):\n",
    "         if sizes[i] >= min_size:\n",
    "             img2[output == i + 1] = 255\n",
    "    return img2\n",
    "\n",
    "    "
   ]
  },
  {
   "cell_type": "code",
   "execution_count": 20,
   "metadata": {},
   "outputs": [],
   "source": [
    "def biggestContourI(contours):\n",
    "    maxVal = 0\n",
    "    maxI = None\n",
    "    for i in range(0, len(contours) - 1):\n",
    "        if len(contours[i]) > maxVal:\n",
    "            cs = contours[i]\n",
    "            maxVal = len(contours[i])\n",
    "            maxI = i\n",
    "    return maxI"
   ]
  },
  {
   "cell_type": "code",
   "execution_count": 4,
   "metadata": {},
   "outputs": [
    {
     "name": "stdout",
     "output_type": "stream",
     "text": [
      "flt (930, 1920) <class 'numpy.ndarray'>\n",
      "mask (1080, 1920) <class 'numpy.ndarray'>\n"
     ]
    },
    {
     "name": "stderr",
     "output_type": "stream",
     "text": [
      "Qt: Session management error: Could not open network socket\n"
     ]
    },
    {
     "name": "stdout",
     "output_type": "stream",
     "text": [
      "flt (930, 1920) <class 'numpy.ndarray'>\n",
      "mask (1080, 1920) <class 'numpy.ndarray'>\n",
      "flt (930, 1920) <class 'numpy.ndarray'>\n",
      "mask (1080, 1920) <class 'numpy.ndarray'>\n",
      "flt (930, 1920) <class 'numpy.ndarray'>\n",
      "mask (1080, 1920) <class 'numpy.ndarray'>\n",
      "flt (930, 1920) <class 'numpy.ndarray'>\n",
      "mask (1080, 1920) <class 'numpy.ndarray'>\n",
      "flt (930, 1920) <class 'numpy.ndarray'>\n",
      "mask (1080, 1920) <class 'numpy.ndarray'>\n",
      "flt (930, 1920) <class 'numpy.ndarray'>\n",
      "mask (1080, 1920) <class 'numpy.ndarray'>\n",
      "flt (930, 1920) <class 'numpy.ndarray'>\n",
      "mask (1080, 1920) <class 'numpy.ndarray'>\n",
      "flt (930, 1920) <class 'numpy.ndarray'>\n",
      "mask (1080, 1920) <class 'numpy.ndarray'>\n",
      "flt (930, 1920) <class 'numpy.ndarray'>\n",
      "mask (1080, 1920) <class 'numpy.ndarray'>\n",
      "flt (930, 1920) <class 'numpy.ndarray'>\n",
      "mask (1080, 1920) <class 'numpy.ndarray'>\n",
      "flt (930, 1920) <class 'numpy.ndarray'>\n",
      "mask (1080, 1920) <class 'numpy.ndarray'>\n",
      "flt (930, 1920) <class 'numpy.ndarray'>\n",
      "mask (1080, 1920) <class 'numpy.ndarray'>\n",
      "flt (930, 1920) <class 'numpy.ndarray'>\n",
      "mask (1080, 1920) <class 'numpy.ndarray'>\n",
      "flt (930, 1920) <class 'numpy.ndarray'>\n",
      "mask (1080, 1920) <class 'numpy.ndarray'>\n",
      "flt (930, 1920) <class 'numpy.ndarray'>\n",
      "mask (1080, 1920) <class 'numpy.ndarray'>\n",
      "flt (930, 1920) <class 'numpy.ndarray'>\n",
      "mask (1080, 1920) <class 'numpy.ndarray'>\n",
      "flt (930, 1920) <class 'numpy.ndarray'>\n",
      "mask (1080, 1920) <class 'numpy.ndarray'>\n",
      "flt (930, 1920) <class 'numpy.ndarray'>\n",
      "mask (1080, 1920) <class 'numpy.ndarray'>\n",
      "flt (930, 1920) <class 'numpy.ndarray'>\n",
      "mask (1080, 1920) <class 'numpy.ndarray'>\n",
      "flt (930, 1920) <class 'numpy.ndarray'>\n",
      "mask (1080, 1920) <class 'numpy.ndarray'>\n",
      "flt (930, 1920) <class 'numpy.ndarray'>\n",
      "mask (1080, 1920) <class 'numpy.ndarray'>\n",
      "flt (930, 1920) <class 'numpy.ndarray'>\n",
      "mask (1080, 1920) <class 'numpy.ndarray'>\n",
      "flt (930, 1920) <class 'numpy.ndarray'>\n",
      "mask (1080, 1920) <class 'numpy.ndarray'>\n",
      "flt (930, 1920) <class 'numpy.ndarray'>\n",
      "mask (1080, 1920) <class 'numpy.ndarray'>\n",
      "flt (930, 1920) <class 'numpy.ndarray'>\n",
      "mask (1080, 1920) <class 'numpy.ndarray'>\n",
      "flt (930, 1920) <class 'numpy.ndarray'>\n",
      "mask (1080, 1920) <class 'numpy.ndarray'>\n",
      "flt (930, 1920) <class 'numpy.ndarray'>\n",
      "mask (1080, 1920) <class 'numpy.ndarray'>\n",
      "flt (930, 1920) <class 'numpy.ndarray'>\n",
      "mask (1080, 1920) <class 'numpy.ndarray'>\n",
      "flt (930, 1920) <class 'numpy.ndarray'>\n",
      "mask (1080, 1920) <class 'numpy.ndarray'>\n",
      "flt (930, 1920) <class 'numpy.ndarray'>\n",
      "mask (1080, 1920) <class 'numpy.ndarray'>\n",
      "flt (930, 1920) <class 'numpy.ndarray'>\n",
      "mask (1080, 1920) <class 'numpy.ndarray'>\n",
      "flt (930, 1920) <class 'numpy.ndarray'>\n",
      "mask (1080, 1920) <class 'numpy.ndarray'>\n",
      "flt (930, 1920) <class 'numpy.ndarray'>\n",
      "mask (1080, 1920) <class 'numpy.ndarray'>\n",
      "flt (930, 1920) <class 'numpy.ndarray'>\n",
      "mask (1080, 1920) <class 'numpy.ndarray'>\n",
      "flt (930, 1920) <class 'numpy.ndarray'>\n",
      "mask (1080, 1920) <class 'numpy.ndarray'>\n",
      "flt (930, 1920) <class 'numpy.ndarray'>\n",
      "mask (1080, 1920) <class 'numpy.ndarray'>\n",
      "flt (930, 1920) <class 'numpy.ndarray'>\n",
      "mask (1080, 1920) <class 'numpy.ndarray'>\n",
      "flt (930, 1920) <class 'numpy.ndarray'>\n",
      "mask (1080, 1920) <class 'numpy.ndarray'>\n",
      "flt (930, 1920) <class 'numpy.ndarray'>\n",
      "mask (1080, 1920) <class 'numpy.ndarray'>\n",
      "flt (930, 1920) <class 'numpy.ndarray'>\n",
      "mask (1080, 1920) <class 'numpy.ndarray'>\n",
      "flt (930, 1920) <class 'numpy.ndarray'>\n",
      "mask (1080, 1920) <class 'numpy.ndarray'>\n",
      "flt (930, 1920) <class 'numpy.ndarray'>\n",
      "mask (1080, 1920) <class 'numpy.ndarray'>\n",
      "flt (930, 1920) <class 'numpy.ndarray'>\n",
      "mask (1080, 1920) <class 'numpy.ndarray'>\n"
     ]
    }
   ],
   "source": [
    "while True:\n",
    "    ret,frame = cap.read()\n",
    "    if not ret:\n",
    "        break\n",
    "\n",
    "    lane_mask = grass_detection(frame)\n",
    "\n",
    "\n",
    "    cv2.imshow('lane edge', lane_mask)\n",
    "    cv2.imshow(\"original\", frame)\n",
    "\n",
    "    # blue, green, red = cv2.split(frame)\n",
    "    # image_contour_green = frame.copy()\n",
    "    # contours2, hierarchy2 = cv2.findContours(image=green, mode=cv2.RETR_TREE, method=cv2.CHAIN_APPROX_NONE)\n",
    "    # cv2.drawContours(image=image_contour_green, contours=contours2, contourIdx=-1, color=(0, 255, 0), thickness=2, lineType=cv2.LINE_AA)\n",
    "    # cv2.imshow('image',image_contour_green)\n",
    "    key = cv2.waitKey(1) & 0xFF\n",
    "    if key == ord('q'):\n",
    "        cv2.destroyAllWindows()\n",
    "        break"
   ]
  },
  {
   "cell_type": "code",
   "execution_count": null,
   "metadata": {},
   "outputs": [],
   "source": []
  }
 ],
 "metadata": {
  "interpreter": {
   "hash": "f9a9c7f2737dedd0b37988c9f92d29557e26ebc3804ba18c5cbd2b7762b1fc4e"
  },
  "kernelspec": {
   "display_name": "Python 3.8.12 ('ROAR')",
   "language": "python",
   "name": "python3"
  },
  "language_info": {
   "codemirror_mode": {
    "name": "ipython",
    "version": 3
   },
   "file_extension": ".py",
   "mimetype": "text/x-python",
   "name": "python",
   "nbconvert_exporter": "python",
   "pygments_lexer": "ipython3",
   "version": "3.8.12"
  },
  "orig_nbformat": 4
 },
 "nbformat": 4,
 "nbformat_minor": 2
}
